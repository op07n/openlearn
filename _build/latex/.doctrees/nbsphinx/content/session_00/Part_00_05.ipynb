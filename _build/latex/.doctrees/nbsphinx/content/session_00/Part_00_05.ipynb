{
 "cells": [
  {
   "cell_type": "markdown",
   "metadata": {},
   "source": [
    "# Conclusion"
   ]
  },
  {
   "cell_type": "markdown",
   "metadata": {},
   "source": [
    "The building blocks of a basic optical-fibre communications link are the modulated light source, the fibre and the detector. There are choices to be made between different types of light source and fibre, with trade-offs between cost and performance. For example, for high signalling rates over long distances single-mode fibre will be used with a single-mode laser (possibly with external modulation) operating in the 1550 nm window, whereas for short-distance links operating at lower signalling rates multimode fibre will be used with a directly modulated LED operating at around 850 nm.\n",
    "\n",
    "The maximum transmission distance without regeneration at a given signalling rate over an optical-fibre link is limited by either attenuation or inter-symbol interference. The effects of attenuation are determined by calculating the power budget for the link. The main cause of inter-symbol interference in multimode fibre is multimode distortion, which is characterised by the bandwidth-distance product of the fibre. Causes of inter-symbol interference in single-mode fibre include dispersion and polarization mode distortion.\n",
    "\n",
    "Optical amplifiers can overcome the limits due to attenuation, and the effects of dispersion can be mitigated by using dispersion-shifted fibre or through the use of dispersion compensation. Increasing the capacity of a fibre through increased signalling rates becomes more difficult as the signalling rates rise above 40 Gbaud, however, and the alternative of using wavelength division multiplexing (WDM) is preferable.\n",
    "\n",
    "WDM is usually done in the 1550 nm window because erbium-doped fibre amplifiers can then be used to amplify all channels simultaneously. Fibre non-linearities become important when dense WDM is used, leading to the need for non-zero dispersion-shifted fibre.\n",
    "\n",
    "Beyond the simple point-to-point link, devices such as fibre splitters and combiners, WDM devices and optical switches allow more sophisticated use of optical-fibre communication, leading ultimately to the concept of an all-optical network.\n"
   ]
  }
 ],
 "metadata": {
  "jupytext": {
   "cell_metadata_filter": "-all",
   "main_language": "python",
   "notebook_metadata_filter": "-all",
   "text_representation": {
    "extension": ".md",
    "format_name": "markdown"
   }
  }
 },
 "nbformat": 4,
 "nbformat_minor": 4
}
