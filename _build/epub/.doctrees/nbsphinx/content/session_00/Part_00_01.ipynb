{
 "cells": [
  {
   "cell_type": "markdown",
   "metadata": {},
   "source": [
    "# 1 Optical fibre communication: introduction\n"
   ]
  },
  {
   "cell_type": "markdown",
   "metadata": {},
   "source": [
    "## 1.1 Uses of optical fibre in communication"
   ]
  },
  {
   "cell_type": "markdown",
   "metadata": {},
   "source": [
    "Using optical fibres, very high data rates (gigabits per second and higher) can be transmitted over long distances (tens of kilometres) without amplifiers or regenerators. As a consequence, optical fibre has completely superseded copper wires as the primary medium for cabled transmission over long distances. Until recently, however, optical fibre has been used less in LANs, where twisted-pair copper cable has been dominant. Similarly, fibre has been slow to penetrate the access network, from homes or businesses to the first telephone exchange.\n",
    "\n",
    "Here I will make the distinction between the *access network* (from homes or businesses to the first telephone exchange – also called the last mile, local loop, or subscriber network) and the *core network* (between exchanges, also called the trunk network).\n",
    "\n",
    "As demand for capacity has risen, however, the merits of optical fibre become ever more significant, and fibre is now being used even in LANs and the access network.\n",
    "\n",
    "The way in which fibre is used is also changing. Originally, fibre was used just for stand-alone point-to-point links. Signal processing – amplification, regeneration, switching and routeing, for example – was done in electronic components. Now, however, devices for optical signal processing have been developed so that ‘all-optical networking’ is possible.\n",
    "\n",
    "In this unit the basics of communication over optical fibre are covered in Section 2 and the components such as amplifiers and switches are introduced in Section 3."
   ]
  },
  {
   "cell_type": "markdown",
   "metadata": {},
   "source": [
    "## 1.2 Wavelength or frequency?"
   ]
  },
  {
   "cell_type": "markdown",
   "metadata": {},
   "source": [
    "In this unit you will find frequent references both to the wavelength of light and the frequency of light. It is important to be able to work with both, and convert from one to the other. In the context of optical-fibre communication, the light radiation we are concerned with is usually in the infrared region of the spectrum.\n",
    "\n",
    "To identify the position in the electromagnetic spectrum it is usual to refer to the wavelength of light, rather than its frequency. Thus I will refer to the ‘1300 nm window’ rather than the 2﻿.﻿3 × 10﻿<sup xmlns:str=\"http://exslt.org/strings\">14</sup> Hz (230 THz) window. T is the SI prefix ‘tera’, the multiplier for 10<sup xmlns:str=\"http://exslt.org/strings\">12</sup>.\n",
    "\n",
    "When talking about the details of the optical spectrum both wavelengths and frequencies are used. In dense wavelength division multiplexing, for example, the carriers are often referred to by their frequencies rather than their wavelengths, and it is important to be able to convert readily from one to the other.\n",
    "\n",
    "The conversion between wavelength (lambda, λ) and frequency (*f*) uses the formula:"
   ]
  },
  {
   "cell_type": "markdown",
   "metadata": {},
   "source": [
    "![figure images/t305_ue001i.gif](../images/t305_ue001i.gif)\n",
    "\n",
    "where *c* is the speed of light in free space (i.e. in a vacuum) which is\n",
    "\n",
    "3.00 × 10<sup xmlns:str=\"http://exslt.org/strings\">8</sup> m s<sup xmlns:str=\"http://exslt.org/strings\">−1</sup> to three significant figures. This may be rearranged to give:"
   ]
  },
  {
   "cell_type": "markdown",
   "metadata": {},
   "source": [
    "![figure images/t305_ue002i.gif](../images/t305_ue002i.gif)\n",
    "\n",
    "Note that because the speed used is that of light in free space, references to wavelength are to the wavelength of the light in free space, which is different from (i.e. longer than) the wavelength of the same light in a fibre. When light enters a fibre from free space (or air) it slows down but the frequency remains the same, so the wavelength decreases.\n",
    "\n",
    "You need to be careful when converting between wavelength and frequency spacings or ranges, rather than individual values. For example, let's suppose you know the output from a light-emitting diode (LED) contains wavelengths between 1300 nm and 1320 nm so that the spectral width is 20 nm and you want to know the frequency range in hertz.\n",
    "\n",
    "To get the exact frequency range you need to convert each end of the range to frequencies and subtract one from the other. Thus the spectrum of the LED output in this example extends from"
   ]
  },
  {
   "cell_type": "markdown",
   "metadata": {},
   "source": [
    "![figure images/t305_ue003i.gif](../images/t305_ue003i.gif)\n",
    "\n",
    "to"
   ]
  },
  {
   "cell_type": "markdown",
   "metadata": {},
   "source": [
    "![figure images/t305_ue004i.gif](../images/t305_ue004i.gif)\n",
    "\n",
    "The spectral range expressed in frequencies is therefore:"
   ]
  },
  {
   "cell_type": "markdown",
   "metadata": {},
   "source": [
    "![figure images/t305_ue005i.gif](../images/t305_ue005i.gif)\n",
    "\n",
    "Notice that you have to be careful with the accuracy of the intermediate steps in this calculation because it involves subtracting two large and similar numbers.\n",
    "\n",
    "For small spectral widths there is an approximation formula to convert between spectral width measured in wavelength (Δλ) and spectral width measured in frequency (Δ*f*):"
   ]
  },
  {
   "cell_type": "markdown",
   "metadata": {},
   "source": [
    "![figure images/t305_ue006i.gif](../images/t305_ue006i.gif)\n",
    "\n",
    "where λ and *f* are taken at the mid-point of the range. This approximation is valid provided the fractions are small – less than about 1/10, for which we require Δλ &lt; λ/10. In fact, because the approximation avoids the need to subtract two large numbers, it can be a better way of doing the calculation.\n",
    "\n",
    "Often we may know λ but not *f*, so we can use *f* = *c/λ* to get:"
   ]
  },
  {
   "cell_type": "markdown",
   "metadata": {},
   "source": [
    "![figure images/t305_ue007i.gif](../images/t305_ue007i.gif)\n",
    "\n",
    "and therefore:"
   ]
  },
  {
   "cell_type": "markdown",
   "metadata": {},
   "source": [
    "![figure images/t305_ue008i.gif](../images/t305_ue008i.gif)\n",
    "\n",
    "Using the example of the LED again, taking λ in the middle of the range at 1310 nm gives:"
   ]
  },
  {
   "cell_type": "markdown",
   "metadata": {},
   "source": [
    "![figure images/t305_ue009i.gif](../images/t305_ue009i.gif)\n",
    "<!--SAQ id=saq001_001-->\n",
    "\n",
    "### SAQ 1"
   ]
  },
  {
   "cell_type": "markdown",
   "metadata": {},
   "source": [
    "#### Question\n",
    "\n",
    "Suppose an LED has a spectrum that extends from 1540 nm to 1560 nm. Calculate:\n",
    "\n",
    "1. \n",
    "its spectral width in nm"
   ]
  },
  {
   "cell_type": "markdown",
   "metadata": {},
   "source": [
    "2. \n",
    "its centre frequency in Hz"
   ]
  },
  {
   "cell_type": "markdown",
   "metadata": {},
   "source": [
    "3. \n",
    "its spectral width in Hz.\n"
   ]
  },
  {
   "cell_type": "markdown",
   "metadata": {},
   "source": [
    "#### Answer\n",
    "\n",
    "1. \n",
    "Its spectral width in nanometres is 1560 – 1540=20 nm."
   ]
  },
  {
   "cell_type": "markdown",
   "metadata": {},
   "source": [
    "2. \n",
    "Its central wavelength is 1550 nm, which corresponds to a frequency of"
   ]
  },
  {
   "cell_type": "markdown",
   "metadata": {},
   "source": [
    "![figure images/t305_ue019i.gif](../images/t305_ue019i.gif)"
   ]
  },
  {
   "cell_type": "markdown",
   "metadata": {},
   "source": [
    "3. \n",
    "Its spectrum extends from"
   ]
  },
  {
   "cell_type": "markdown",
   "metadata": {},
   "source": [
    "![figure images/t305_ue020i.gif](../images/t305_ue020i.gif)\n",
    "\n",
    "to"
   ]
  },
  {
   "cell_type": "markdown",
   "metadata": {},
   "source": [
    "![figure images/t305_ue021i.gif](../images/t305_ue021i.gif)\n",
    "\n",
    "which is a spectral width of"
   ]
  },
  {
   "cell_type": "markdown",
   "metadata": {},
   "source": [
    "![figure images/t305_ue022i.gif](../images/t305_ue022i.gif)\n",
    "\n",
    "Alternatively, this can be calculated using the approximation formula:"
   ]
  },
  {
   "cell_type": "markdown",
   "metadata": {},
   "source": [
    "![figure images/t305_ue023i.gif](../images/t305_ue023i.gif)"
   ]
  },
  {
   "cell_type": "markdown",
   "metadata": {},
   "source": [
    "Notice that the spectral width of the LED in this SAQ measured in terms of *wavelength* was the same as that in the example given in Section 1.2, i.e. 20 nm. The spectral width measured in frequency is different, however: 3.5 × 10<sup xmlns:str=\"http://exslt.org/strings\">12</sup> in one case and 2.5 × 10<sup xmlns:str=\"http://exslt.org/strings\">12</sup> here. They are different because the centre wavelength is different.\n",
    "<!--ENDSAQ-->"
   ]
  }
 ],
 "metadata": {
  "jupytext": {
   "cell_metadata_filter": "-all",
   "main_language": "python",
   "notebook_metadata_filter": "-all",
   "text_representation": {
    "extension": ".md",
    "format_name": "markdown"
   }
  }
 },
 "nbformat": 4,
 "nbformat_minor": 4
}
